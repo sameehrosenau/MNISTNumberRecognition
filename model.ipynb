{
 "cells": [
  {
   "cell_type": "code",
   "execution_count": 1,
   "id": "bf034653",
   "metadata": {},
   "outputs": [],
   "source": [
    "import tensorflow as tf\n",
    "%matplotlib inline\n",
    "\n",
    "import matplotlib\n",
    "from tensorflow import keras\n",
    "from tensorflow.keras.datasets import mnist\n",
    "from tensorflow.keras.models import Sequential\n",
    "from tensorflow.keras.layers import Dense, Dropout, Activation, Flatten, Conv2D, MaxPooling2D\n",
    "from tensorflow.keras import backend as K\n",
    "import numpy as np\n",
    "import pandas as pandas\n",
    "import matplotlib.pyplot as pyplot\n",
    "from sklearn.model_selection import KFold"
   ]
  },
  {
   "cell_type": "code",
   "execution_count": 2,
   "id": "56a96033",
   "metadata": {},
   "outputs": [],
   "source": [
    "(trainData, trainLabels), (testData, testLabels) = mnist.load_data()"
   ]
  },
  {
   "cell_type": "code",
   "execution_count": 3,
   "id": "789d8d55",
   "metadata": {},
   "outputs": [],
   "source": [
    "# Preprocessing\n",
    "\n",
    "imgShape = (28, 28, 1)\n",
    "\n",
    "# Reshape images\n",
    "trainData = trainData.reshape(trainData.shape[0], 28, 28, 1)\n",
    "testData = testData.reshape(testData.shape[0], 28, 28, 1)\n",
    "\n",
    "# Convert labels to matrices\n",
    "trainLabels = keras.utils.to_categorical(trainLabels)\n",
    "testLabels = keras.utils.to_categorical(testLabels)\n",
    "\n",
    "# Pixel values convert to float\n",
    "trainData = trainData.astype('float32')\n",
    "testData = testData.astype('float32')\n",
    "\n",
    "# from RGB numbering scale (0-255) to greyscale (0-1)\n",
    "trainData /= 255\n",
    "testData /= 255"
   ]
  },
  {
   "cell_type": "code",
   "execution_count": 4,
   "id": "1499c1e3",
   "metadata": {},
   "outputs": [
    {
     "name": "stderr",
     "output_type": "stream",
     "text": [
      "2022-02-06 17:04:06.717437: I tensorflow/core/platform/cpu_feature_guard.cc:151] This TensorFlow binary is optimized with oneAPI Deep Neural Network Library (oneDNN) to use the following CPU instructions in performance-critical operations:  AVX2 FMA\n",
      "To enable them in other operations, rebuild TensorFlow with the appropriate compiler flags.\n"
     ]
    }
   ],
   "source": [
    "batchSize = 1\n",
    "\n",
    "epochs = 3\n",
    "\n",
    "model = Sequential()\n",
    "model.add(Conv2D(32, (3, 3), activation='relu',input_shape=imgShape))\n",
    "model.add(Conv2D(64, (3, 3), activation='relu'))\n",
    "model.add(MaxPooling2D(pool_size=(2, 2)))\n",
    "model.add(Flatten())\n",
    "model.add(Dense(256, activation='relu'))\n",
    "model.add(Dense(10))\n",
    "model.add(Activation(\"softmax\"))\n",
    "\n",
    "opt = keras.optimizers.Adam()\n",
    "\n",
    "model.compile(loss=keras.losses.categorical_crossentropy,optimizer=opt,metrics=['accuracy'])"
   ]
  },
  {
   "cell_type": "code",
   "execution_count": 5,
   "id": "d64ada85",
   "metadata": {},
   "outputs": [
    {
     "name": "stdout",
     "output_type": "stream",
     "text": [
      "Epoch 1/3\n",
      "60000/60000 [==============================] - 948s 16ms/step - loss: 0.1126 - accuracy: 0.9670 - val_loss: 0.0667 - val_accuracy: 0.9812\n",
      "Epoch 2/3\n",
      "60000/60000 [==============================] - 1004s 17ms/step - loss: 0.0579 - accuracy: 0.9844 - val_loss: 0.0658 - val_accuracy: 0.9838\n",
      "Epoch 3/3\n",
      "60000/60000 [==============================] - 1045s 17ms/step - loss: 0.0439 - accuracy: 0.9883 - val_loss: 0.0624 - val_accuracy: 0.9835\n",
      "Training complete.\n"
     ]
    }
   ],
   "source": [
    "modelHistory = model.fit(trainData, trainLabels, batch_size=batchSize, epochs=epochs, verbose=1, validation_data=(testData, testLabels))\n",
    "print(\"Training complete.\")\n",
    "model.save(\"numClassificationModel.h5\")"
   ]
  },
  {
   "cell_type": "code",
   "execution_count": 6,
   "id": "dfbd65ca",
   "metadata": {},
   "outputs": [],
   "source": [
    "np.save('modelTrainHistory.npy',modelHistory.history)"
   ]
  }
 ],
 "metadata": {
  "kernelspec": {
   "display_name": "Python 3 (ipykernel)",
   "language": "python",
   "name": "python3"
  },
  "language_info": {
   "codemirror_mode": {
    "name": "ipython",
    "version": 3
   },
   "file_extension": ".py",
   "mimetype": "text/x-python",
   "name": "python",
   "nbconvert_exporter": "python",
   "pygments_lexer": "ipython3",
   "version": "3.9.7"
  }
 },
 "nbformat": 4,
 "nbformat_minor": 5
}
